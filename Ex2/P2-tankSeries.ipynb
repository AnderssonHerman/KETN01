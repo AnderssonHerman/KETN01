{
 "cells": [
  {
   "cell_type": "code",
   "execution_count": 47,
   "metadata": {},
   "outputs": [],
   "source": [
    "import numpy as np\n",
    "import matplotlib.pyplot as plt\n",
    "\n",
    "from scipy.optimize import fsolve, root\n",
    "from scipy.integrate import solve_ivp\n",
    "import time"
   ]
  },
  {
   "cell_type": "code",
   "execution_count": 49,
   "metadata": {},
   "outputs": [
    {
     "name": "stdout",
     "output_type": "stream",
     "text": [
      "Method: RK23 , Iterations: (39806, 119450), Time: 8264.35ms\n",
      "Method: BDF  , Iterations: (64, 128), Time: 43.08ms\n",
      "Method: LSODA, Iterations: (76, 140), Time: 0.00ms\n"
     ]
    }
   ],
   "source": [
    "def twotanks(t,c):\n",
    "    # TWOTANKS is a model of two tank\n",
    "    # in series describing the\n",
    "    # concentration variation\n",
    "    #parameter\n",
    "\n",
    "    #c = np.array([c1,c2]).T\n",
    "    \n",
    "    q = 1\n",
    "    Vtot = 1\n",
    "    V1 = 0.001\n",
    "    V2 = Vtot-V1\n",
    "    cin = 1\n",
    "    #equations\n",
    "    M = np.array([[-q/V1, 0],\n",
    "                 [q/V2, -q/V2]])\n",
    "    b = np.array([q/V1,0])\n",
    "    dcdt = M@c + b*cin\n",
    "    return dcdt\n",
    "\n",
    "def simTank():\n",
    "    guess = np.array([0, 0])\n",
    "    tspan = [0,100]\n",
    "    methods = [\"RK23\", \"BDF\", \"LSODA\"]\n",
    "    for method in methods:\n",
    "        tic = time.time()\n",
    "        sol = solve_ivp(lambda t,c: twotanks(t,c), tspan, guess, method = method)\n",
    "        toc = time.time() - tic\n",
    "        t = sol.t\n",
    "        c1, c2 = sol.y\n",
    "        print(f'Method: {method:5s}, Iterations: {len(t),sol[\"nfev\"]}, Time: {toc*1000:.2f}ms')\n",
    "\n",
    "\n",
    "simTank()\n"
   ]
  },
  {
   "cell_type": "code",
   "execution_count": null,
   "metadata": {},
   "outputs": [],
   "source": []
  }
 ],
 "metadata": {
  "kernelspec": {
   "display_name": "Python 3",
   "language": "python",
   "name": "python3"
  },
  "language_info": {
   "codemirror_mode": {
    "name": "ipython",
    "version": 3
   },
   "file_extension": ".py",
   "mimetype": "text/x-python",
   "name": "python",
   "nbconvert_exporter": "python",
   "pygments_lexer": "ipython3",
   "version": "3.9.13"
  }
 },
 "nbformat": 4,
 "nbformat_minor": 2
}
