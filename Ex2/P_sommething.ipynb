{
 "cells": [
  {
   "cell_type": "code",
   "execution_count": 47,
   "metadata": {},
   "outputs": [],
   "source": [
    "import numpy as np\n",
    "import matplotlib.pyplot as plt\n",
    "\n",
    "from scipy.optimize import fsolve, root\n",
    "from scipy.integrate import solve_ivp"
   ]
  },
  {
   "cell_type": "code",
   "execution_count": 48,
   "metadata": {},
   "outputs": [],
   "source": [
    "\"\"\"\n",
    "cstr.py\n",
    "\"\"\"\n",
    "import numpy as np\n",
    "\n",
    "def cstrModel(y):   \n",
    "    # Unknown variables\n",
    "    C = y[0]\n",
    "    T = y[1]\n",
    "\n",
    "    # Parameters\n",
    "    q   = 1.1       # m3/h\n",
    "    C0  = 9000    #mol/m^3\n",
    "    T0  = 273+21   # K\n",
    "    V   = 1.3       # m^3\n",
    "    k0  = 6.99E10  # h^-1\n",
    "    Ea  = 69.418   # kJ/mol\n",
    "    R   = 0.00833  # kJ/(mol K)\n",
    "    rho = 800  # kg/m^3\n",
    "    Cp  = 3.142  # kJ/(kg K)\n",
    "    dH  = -69.9  # kJ/mol\n",
    "    U   = 2570  # kJ/(h m^2 K)\n",
    "    A   = 3    # m^2\n",
    "\n",
    "    # Equations\n",
    "    k   = k0*np.exp(-Ea/(R*T))\n",
    "    ra  = k*C\n",
    "    Tj  = 273+27\n",
    "\n",
    "    # Balances\n",
    "    resCB = q*(C0-C)-V*ra\n",
    "    resEB = rho*Cp*q*(T0-T)-dH*V*ra-U*A*(T-Tj)\n",
    "    res   = [resCB,resEB]\n",
    "    \n",
    "    return res"
   ]
  },
  {
   "cell_type": "code",
   "execution_count": 63,
   "metadata": {},
   "outputs": [
    {
     "name": "stdout",
     "output_type": "stream",
     "text": [
      "1676.647199010847 352.1723077575451\n",
      " message: The relative error between two consecutive iterates is at most 0.001000\n",
      " success: True\n",
      "  status: 2\n",
      "     fun: [ 3.267e-03 -2.283e-01]\n",
      "       x: [ 1.677e+03  3.522e+02]\n",
      "   cov_x: [[ 1.839e+00 -2.255e-02]\n",
      "           [-2.255e-02  2.765e-04]]\n",
      "    nfev: 15\n",
      "    fjac: [[ 2.737e+04 -9.998e-01]\n",
      "           [ 3.356e+02 -7.374e-01]]\n",
      "    ipvt: [2 1]\n",
      "     qtf: [ 2.007e+02 -1.099e+00]\n"
     ]
    }
   ],
   "source": [
    "\"\"\"Problem 1\"\"\"\n",
    "def simtank():\n",
    "    guess = [4000,300]\n",
    "    #csteady, temp = fsolve(lambda y: cstrModel(0,y), guess)\n",
    "    sol = root(cstrModel, guess, method=\"lm\", tol=1e-3)\n",
    "    print (sol.x[0],sol.x[1])\n",
    "    print(sol)\n",
    "    #print(f\"c: {csteady} T: {temp}\")\n",
    "simtank()\n"
   ]
  }
 ],
 "metadata": {
  "kernelspec": {
   "display_name": "Python 3",
   "language": "python",
   "name": "python3"
  },
  "language_info": {
   "codemirror_mode": {
    "name": "ipython",
    "version": 3
   },
   "file_extension": ".py",
   "mimetype": "text/x-python",
   "name": "python",
   "nbconvert_exporter": "python",
   "pygments_lexer": "ipython3",
   "version": "3.9.13"
  }
 },
 "nbformat": 4,
 "nbformat_minor": 2
}
