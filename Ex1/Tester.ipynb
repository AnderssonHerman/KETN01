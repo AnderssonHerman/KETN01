{
 "cells": [
  {
   "cell_type": "code",
   "execution_count": 17,
   "metadata": {},
   "outputs": [
    {
     "name": "stdout",
     "output_type": "stream",
     "text": [
      "2 = is the base value // 3 = is the results\n",
      "3 = is the base value // 4 = is the results\n",
      "4 = is the base value // 5 = is the results\n",
      "5 = is the base value // 6 = is the results\n",
      "6 = is the base value // 7 = is the results\n"
     ]
    }
   ],
   "source": [
    "# simple  addition\n",
    "x=1\n",
    "for i in range (5): \n",
    "    y=x+2\n",
    "    x += 1\n",
    "    print(x, \"= is the base value //\", y, \"= is the results\")\n",
    "\n"
   ]
  },
  {
   "cell_type": "code",
   "execution_count": 20,
   "metadata": {},
   "outputs": [
    {
     "name": "stdout",
     "output_type": "stream",
     "text": [
      "[1. 4. 3.]\n",
      "[1. 2. 3.]\n",
      "+ [2. 6. 6.]\n",
      "- [0. 2. 0.]\n",
      "* [1. 8. 9.]\n",
      "/ [1. 2. 1.]\n",
      "** [ 1. 16. 27.]\n"
     ]
    }
   ],
   "source": [
    "# Array calculations\n",
    "import numpy as np\n",
    "L1 =  np.array([1.,4.,3.])\n",
    "L2 =  np.array([1.,2.,3.])\n",
    "\n",
    "print(L1)\n",
    "print(L2)\n",
    "print(\"+\", L1+L2)\n",
    "print(\"-\",L1-L2)\n",
    "print(\"*\",L1*L2)\n",
    "print(\"/\",L1/L2)\n",
    "print(\"**\",L1**L2)"
   ]
  },
  {
   "cell_type": "code",
   "execution_count": 21,
   "metadata": {},
   "outputs": [
    {
     "name": "stdout",
     "output_type": "stream",
     "text": [
      "[0 1 2 3 4]\n"
     ]
    }
   ],
   "source": [
    "import numpy as np\n",
    "print(np.arange(5))\n",
    "\n"
   ]
  }
 ],
 "metadata": {
  "kernelspec": {
   "display_name": "Python 3",
   "language": "python",
   "name": "python3"
  },
  "language_info": {
   "codemirror_mode": {
    "name": "ipython",
    "version": 3
   },
   "file_extension": ".py",
   "mimetype": "text/x-python",
   "name": "python",
   "nbconvert_exporter": "python",
   "pygments_lexer": "ipython3",
   "version": "3.9.13"
  },
  "orig_nbformat": 4
 },
 "nbformat": 4,
 "nbformat_minor": 2
}
