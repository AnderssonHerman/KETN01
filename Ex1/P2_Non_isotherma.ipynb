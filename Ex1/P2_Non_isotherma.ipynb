{
 "cells": [
  {
   "cell_type": "code",
   "execution_count": 3,
   "metadata": {},
   "outputs": [],
   "source": [
    "import numpy as np\n",
    "import matplotlib.pyplot as plt\n",
    "\n",
    "from scipy.optimize import fsolve\n",
    "from scipy.integrate import solve_ivp\n",
    "\n",
    "\n",
    "# Intitial Values\n",
    "q1=0.1  #m3/s, \n",
    "c1=1    #mole/m3, \n",
    "q2=0.3  #m3/s\n",
    "c2=0.1  #mole/m3,\n",
    "ro=800  #kg/m3, \n",
    "kout=0.1    #s-1\n",
    "\n"
   ]
  },
  {
   "cell_type": "code",
   "execution_count": 6,
   "metadata": {},
   "outputs": [],
   "source": []
  }
 ],
 "metadata": {
  "kernelspec": {
   "display_name": "Python 3",
   "language": "python",
   "name": "python3"
  },
  "language_info": {
   "codemirror_mode": {
    "name": "ipython",
    "version": 3
   },
   "file_extension": ".py",
   "mimetype": "text/x-python",
   "name": "python",
   "nbconvert_exporter": "python",
   "pygments_lexer": "ipython3",
   "version": "3.9.13"
  },
  "orig_nbformat": 4
 },
 "nbformat": 4,
 "nbformat_minor": 2
}
