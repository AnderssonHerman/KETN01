{
 "cells": [
  {
   "cell_type": "code",
   "execution_count": 3,
   "metadata": {},
   "outputs": [],
   "source": [
    "\"\"\"\n",
    "A well stirred mixing tank has two inlets and one outlet. One of the inlets is a fresh feed\n",
    "with high concentration of component A. The other inlet is a stream from another part of\n",
    "the process containing low concentration of A. It is assumed to be isothermal. \n",
    "\"\"\"\n",
    "\n",
    "\"\"\"\n",
    "A)) Construct a model for total mass and for component A. List your assumptions.\n",
    "Express the component mass balance as a composition equation. Assume that the\n",
    "outlet flow rate is proportional to the tank volume, qout=kout*V. \n",
    "B)) Solve the steady-state. Assume following data:\n",
    "    q1=0.1 m3/s, c1=1 mole/m3, \n",
    "    q2=0.3 m3/s, c2=0.1 mole/m3,\n",
    "    ro=800 kg/m3, kout=0.1 s-1\n",
    "\n",
    "\"\"\"\n",
    "# A))\n",
    "#dVdt = q1 + q2 - qout\n",
    "#dcdt = q1/V *(c1-c) + q2/V *(c2-c)\n",
    "# Assumptions comes from Lecture, but are as follows \n",
    "# "
   ]
  },
  {
   "cell_type": "code",
   "execution_count": 6,
   "metadata": {},
   "outputs": [],
   "source": [
    "import numpy as np\n",
    "import matplotlib.pyplot as plt\n",
    "\n",
    "from scipy.optimize import fsolve\n",
    "from scipy.integrate import solve_ivp\n",
    "\n",
    "\n",
    "# Intitial Values\n",
    "q1=0.1  #m3/s, \n",
    "c1=1    #mole/m3, \n",
    "q2=0.3  #m3/s\n",
    "c2=0.1  #mole/m3,\n",
    "ro=800  #kg/m3, \n",
    "kout=0.1    #s-1\n",
    "\n"
   ]
  }
 ],
 "metadata": {
  "kernelspec": {
   "display_name": "Python 3",
   "language": "python",
   "name": "python3"
  },
  "language_info": {
   "codemirror_mode": {
    "name": "ipython",
    "version": 3
   },
   "file_extension": ".py",
   "mimetype": "text/x-python",
   "name": "python",
   "nbconvert_exporter": "python",
   "pygments_lexer": "ipython3",
   "version": "3.9.13"
  },
  "orig_nbformat": 4
 },
 "nbformat": 4,
 "nbformat_minor": 2
}
